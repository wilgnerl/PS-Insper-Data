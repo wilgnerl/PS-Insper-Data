{
 "cells": [
  {
   "cell_type": "markdown",
   "metadata": {},
   "source": [
    "# PS Insper Data"
   ]
  },
  {
   "cell_type": "markdown",
   "metadata": {},
   "source": [
    "## Informações Gerais"
   ]
  },
  {
   "cell_type": "markdown",
   "metadata": {},
   "source": [
    "> **Candidato:** Wilgner Lopes Araujo\n",
    "\n",
    "> **Curso:** Engenharia Mecatrônica\n",
    "\n",
    "> **Semestre:** 2° Semestre\n",
    "\n",
    "> **Repositorio do git:** [https://github.com/wilgnerl?tab=repositories](#Repositorio)"
   ]
  },
  {
   "cell_type": "markdown",
   "metadata": {},
   "source": [
    "## Objetivo desse trabalho"
   ]
  },
  {
   "cell_type": "markdown",
   "metadata": {},
   "source": [
    "> Fazer uma breve análise utilizando quaisquer métodos desejados, sejam eles a visualização e descrição da base, como gráficos, estatísticas descritivas, tabelas etc.; e/ou analises mais teóricas, embasadas em literatura (seja essa composta por artigos acadêmicos e científicos e/ou notícias de fontes confiáveis). **(Retirado do Email)**"
   ]
  },
  {
   "cell_type": "markdown",
   "metadata": {},
   "source": [
    "## Informações sobre o DataSet"
   ]
  },
  {
   "cell_type": "markdown",
   "metadata": {},
   "source": [
    "### Explicando os rotulos"
   ]
  },
  {
   "cell_type": "markdown",
   "metadata": {},
   "source": [
    "## País\n",
    "> Países do mundo\n",
    "\n",
    "## Continente\n",
    "> Continentes do mundo\n",
    "\n",
    "## Ano\n",
    "> Ano: de 1952 a 2007\n",
    "\n",
    "## Expectativa_de_vida\n",
    "> Expectativa de vida no Ano de nascimento em Anos\n",
    "\n",
    "## Populacao\n",
    "> População do país\n",
    "\n",
    "## Pib_per_capita\n",
    "> PIB per capita (USD, PPC 2005)"
   ]
  },
  {
   "cell_type": "markdown",
   "metadata": {},
   "source": [
    "## Iniciando a EDA(Exploratory Data Analysis) e Data Cleaning"
   ]
  },
  {
   "cell_type": "markdown",
   "metadata": {},
   "source": [
    "> Primeiro vamos importar as bibliotecas necessarias para o nosso trabalho"
   ]
  },
  {
   "cell_type": "code",
   "execution_count": 18,
   "metadata": {},
   "outputs": [
    {
     "name": "stdout",
     "output_type": "stream",
     "text": [
      "Versão do pandas -> 1.0.1\n",
      "Versão do numpy -> 1.18.1\n",
      "Versão do matplotlib -> 3.1.3\n",
      "Versão do seaborn -> 0.10.0\n",
      "Versão do scipy -> 1.4.1\n"
     ]
    }
   ],
   "source": [
    "import pandas as pd\n",
    "import numpy as np\n",
    "import math\n",
    "import matplotlib.pyplot as plt\n",
    "import matplotlib as mpl\n",
    "import seaborn as sns\n",
    "import scipy\n",
    "from scipy import stats\n",
    "\n",
    "#Checando as versões das bibliotecas \n",
    "print('Versão do pandas -> %s' % pd.__version__)\n",
    "print('Versão do numpy -> %s' % np.__version__)\n",
    "print('Versão do matplotlib -> %s' % mpl.__version__)\n",
    "print('Versão do seaborn -> %s' % sns.__version__)\n",
    "print('Versão do scipy -> %s' % scipy.__version__)\n"
   ]
  },
  {
   "cell_type": "markdown",
   "metadata": {},
   "source": [
    "> Agora vamos importar nosso dataset para nossa area de trabalho com o jupyter"
   ]
  },
  {
   "cell_type": "code",
   "execution_count": 19,
   "metadata": {},
   "outputs": [
    {
     "data": {
      "text/html": [
       "<div>\n",
       "<style scoped>\n",
       "    .dataframe tbody tr th:only-of-type {\n",
       "        vertical-align: middle;\n",
       "    }\n",
       "\n",
       "    .dataframe tbody tr th {\n",
       "        vertical-align: top;\n",
       "    }\n",
       "\n",
       "    .dataframe thead th {\n",
       "        text-align: right;\n",
       "    }\n",
       "</style>\n",
       "<table border=\"1\" class=\"dataframe\">\n",
       "  <thead>\n",
       "    <tr style=\"text-align: right;\">\n",
       "      <th></th>\n",
       "      <th>país</th>\n",
       "      <th>continente</th>\n",
       "      <th>ano</th>\n",
       "      <th>expectativa_de_vida</th>\n",
       "      <th>população</th>\n",
       "      <th>pib_per_cápita</th>\n",
       "    </tr>\n",
       "  </thead>\n",
       "  <tbody>\n",
       "    <tr>\n",
       "      <th>0</th>\n",
       "      <td>Afghanistan</td>\n",
       "      <td>Asia</td>\n",
       "      <td>1952</td>\n",
       "      <td>28.801</td>\n",
       "      <td>8425333</td>\n",
       "      <td>779.445314</td>\n",
       "    </tr>\n",
       "    <tr>\n",
       "      <th>1</th>\n",
       "      <td>Afghanistan</td>\n",
       "      <td>Asia</td>\n",
       "      <td>1957</td>\n",
       "      <td>30.332</td>\n",
       "      <td>9240934</td>\n",
       "      <td>820.853030</td>\n",
       "    </tr>\n",
       "    <tr>\n",
       "      <th>2</th>\n",
       "      <td>Afghanistan</td>\n",
       "      <td>Asia</td>\n",
       "      <td>1962</td>\n",
       "      <td>31.997</td>\n",
       "      <td>10267083</td>\n",
       "      <td>853.100710</td>\n",
       "    </tr>\n",
       "    <tr>\n",
       "      <th>3</th>\n",
       "      <td>Afghanistan</td>\n",
       "      <td>Asia</td>\n",
       "      <td>1967</td>\n",
       "      <td>34.020</td>\n",
       "      <td>11537966</td>\n",
       "      <td>836.197138</td>\n",
       "    </tr>\n",
       "    <tr>\n",
       "      <th>4</th>\n",
       "      <td>Afghanistan</td>\n",
       "      <td>Asia</td>\n",
       "      <td>1972</td>\n",
       "      <td>36.088</td>\n",
       "      <td>13079460</td>\n",
       "      <td>739.981106</td>\n",
       "    </tr>\n",
       "  </tbody>\n",
       "</table>\n",
       "</div>"
      ],
      "text/plain": [
       "          país continente   ano  expectativa_de_vida  população  \\\n",
       "0  Afghanistan       Asia  1952               28.801    8425333   \n",
       "1  Afghanistan       Asia  1957               30.332    9240934   \n",
       "2  Afghanistan       Asia  1962               31.997   10267083   \n",
       "3  Afghanistan       Asia  1967               34.020   11537966   \n",
       "4  Afghanistan       Asia  1972               36.088   13079460   \n",
       "\n",
       "   pib_per_cápita  \n",
       "0      779.445314  \n",
       "1      820.853030  \n",
       "2      853.100710  \n",
       "3      836.197138  \n",
       "4      739.981106  "
      ]
     },
     "execution_count": 19,
     "metadata": {},
     "output_type": "execute_result"
    }
   ],
   "source": [
    "df = pd.read_excel('../data/base_2/base_2.xlsx')\n",
    "df.head()"
   ]
  },
  {
   "cell_type": "markdown",
   "metadata": {},
   "source": [
    "> Agora que temos nossa base de dados vamos primeiro analisar os dados fundamentais dele(tamanho, informações sobre as colunas, tipos de variaveis, etc.)"
   ]
  },
  {
   "cell_type": "code",
   "execution_count": 20,
   "metadata": {},
   "outputs": [],
   "source": [
    "def tamanho_df(df):\n",
    "    return df.shape\n",
    "def info_df(df):\n",
    "    return df.info()"
   ]
  },
  {
   "cell_type": "code",
   "execution_count": 21,
   "metadata": {},
   "outputs": [
    {
     "name": "stdout",
     "output_type": "stream",
     "text": [
      "O nosso dataset tem 1704 linhas e 6 colunas \n",
      "\n",
      "<class 'pandas.core.frame.DataFrame'>\n",
      "RangeIndex: 1704 entries, 0 to 1703\n",
      "Data columns (total 6 columns):\n",
      " #   Column               Non-Null Count  Dtype  \n",
      "---  ------               --------------  -----  \n",
      " 0   país                 1704 non-null   object \n",
      " 1   continente           1704 non-null   object \n",
      " 2   ano                  1704 non-null   int64  \n",
      " 3   expectativa_de_vida  1704 non-null   float64\n",
      " 4   população            1704 non-null   int64  \n",
      " 5   pib_per_cápita       1704 non-null   float64\n",
      "dtypes: float64(2), int64(2), object(2)\n",
      "memory usage: 80.0+ KB\n"
     ]
    }
   ],
   "source": [
    "tamanho = tamanho_df(df)\n",
    "print(f'O nosso dataset tem {tamanho[0]} linhas e {tamanho[1]} colunas \\n')\n",
    "info_df(df)"
   ]
  },
  {
   "cell_type": "markdown",
   "metadata": {},
   "source": [
    "## Primeiras conclusões:\n",
    "* O dataset tem 1704 linhas e 6 colunas\n",
    "    \n",
    "* Não existem valores não nulos(NaN) no dataset\n",
    "\n",
    "* Temos 2 variaveis do tipo objeto que podem ser consideradas Qualititativas Nominais\n",
    "\n",
    "* Temos 2 Variaveis numericas que são Quantitativas discretas (Ano e População) e 2 Variaveis numerica Quantitativa continua (Expecativa de vida e Pib per capita"
   ]
  },
  {
   "cell_type": "code",
   "execution_count": 22,
   "metadata": {},
   "outputs": [],
   "source": [
    "#Como afirmado assima, vamos passar as variaveis qualitativas para categoricas\n",
    "\n",
    "df['país'] = df['país'].astype('category')\n",
    "df['continente'] = df['continente'].astype('category')"
   ]
  },
  {
   "cell_type": "code",
   "execution_count": 23,
   "metadata": {},
   "outputs": [
    {
     "name": "stdout",
     "output_type": "stream",
     "text": [
      "<class 'pandas.core.frame.DataFrame'>\n",
      "RangeIndex: 1704 entries, 0 to 1703\n",
      "Data columns (total 6 columns):\n",
      " #   Column               Non-Null Count  Dtype   \n",
      "---  ------               --------------  -----   \n",
      " 0   país                 1704 non-null   category\n",
      " 1   continente           1704 non-null   category\n",
      " 2   ano                  1704 non-null   int64   \n",
      " 3   expectativa_de_vida  1704 non-null   float64 \n",
      " 4   população            1704 non-null   int64   \n",
      " 5   pib_per_cápita       1704 non-null   float64 \n",
      "dtypes: category(2), float64(2), int64(2)\n",
      "memory usage: 64.7 KB\n"
     ]
    }
   ],
   "source": [
    "info_df(df)"
   ]
  },
  {
   "cell_type": "markdown",
   "metadata": {},
   "source": [
    "## Extraindo informações das colunas"
   ]
  },
  {
   "cell_type": "markdown",
   "metadata": {},
   "source": [
    "> Vamos verificar os rotulos nas variaveis qualitativas e tirar as estatisticas descritivas das variaveis quantitativas"
   ]
  },
  {
   "cell_type": "code",
   "execution_count": 24,
   "metadata": {},
   "outputs": [
    {
     "name": "stdout",
     "output_type": "stream",
     "text": [
      "Na coluna país temos um total de 142 países \n",
      " Mostrando os 10 primeiros paises\n"
     ]
    },
    {
     "data": {
      "text/plain": [
       "['Afghanistan',\n",
       " 'Albania',\n",
       " 'Algeria',\n",
       " 'Angola',\n",
       " 'Argentina',\n",
       " 'Australia',\n",
       " 'Austria',\n",
       " 'Bahrain',\n",
       " 'Bangladesh',\n",
       " 'Belgium']"
      ]
     },
     "execution_count": 24,
     "metadata": {},
     "output_type": "execute_result"
    }
   ],
   "source": [
    "#Rotulos dos paises\n",
    "nomes_paises = list(df.país.unique())\n",
    "print(f'Na coluna país temos um total de {len(nomes_paises)} países \\n', 'Mostrando os 10 primeiros paises')\n",
    "nomes_paises[:10]"
   ]
  },
  {
   "cell_type": "code",
   "execution_count": 25,
   "metadata": {},
   "outputs": [
    {
     "name": "stdout",
     "output_type": "stream",
     "text": [
      "Na coluna país temos um total de 5 países \n",
      "\n"
     ]
    },
    {
     "data": {
      "text/plain": [
       "['Asia', 'Europe', 'Africa', 'Americas', 'Oceania']"
      ]
     },
     "execution_count": 25,
     "metadata": {},
     "output_type": "execute_result"
    }
   ],
   "source": [
    "#Vamos checar o mesmo com os continentes agora\n",
    "continentes = list(df.continente.unique())\n",
    "print(f'Na coluna país temos um total de {len(continentes)} países \\n')\n",
    "continentes"
   ]
  },
  {
   "cell_type": "code",
   "execution_count": 26,
   "metadata": {},
   "outputs": [],
   "source": [
    "# Agora vamos extrair as estatisticas descritivas\n",
    "def describe_df(df, column):\n",
    "    return df[column].describe()\n"
   ]
  },
  {
   "cell_type": "code",
   "execution_count": 27,
   "metadata": {},
   "outputs": [
    {
     "data": {
      "text/plain": [
       "count    1704.00000\n",
       "mean     1979.50000\n",
       "std        17.26533\n",
       "min      1952.00000\n",
       "25%      1965.75000\n",
       "50%      1979.50000\n",
       "75%      1993.25000\n",
       "max      2007.00000\n",
       "Name: ano, dtype: float64"
      ]
     },
     "execution_count": 27,
     "metadata": {},
     "output_type": "execute_result"
    }
   ],
   "source": [
    "describe_df(df, 'ano')"
   ]
  },
  {
   "cell_type": "markdown",
   "metadata": {},
   "source": [
    "### Na variavel Ano, obtemos que:\n",
    "* A média dos anos dataset é **1979.5**\n",
    "\n",
    "* Com desvio-padrão de **17,26 anos**\n",
    "\n",
    "* Sendo o Menor ano **1952**\n",
    "\n",
    "* O maior **2007**"
   ]
  },
  {
   "cell_type": "code",
   "execution_count": 28,
   "metadata": {},
   "outputs": [
    {
     "data": {
      "text/plain": [
       "count    1704.000000\n",
       "mean       59.474439\n",
       "std        12.917107\n",
       "min        23.599000\n",
       "25%        48.198000\n",
       "50%        60.712500\n",
       "75%        70.845500\n",
       "max        82.603000\n",
       "Name: expectativa_de_vida, dtype: float64"
      ]
     },
     "execution_count": 28,
     "metadata": {},
     "output_type": "execute_result"
    }
   ],
   "source": [
    "describe_df(df, 'expectativa_de_vida')"
   ]
  },
  {
   "cell_type": "markdown",
   "metadata": {},
   "source": [
    "### Na variavel Expectativa de vida, obtemos que:\n",
    "* A média da expectativa de vida no dataset é **59.47 Anos**\n",
    "\n",
    "* Com desvio-padrão de **12.91 Anos**\n",
    "\n",
    "* Sendo a menor expectativa de vida de: **23.59 Anos**\n",
    "\n",
    "* E a maior **82.603 Anos**"
   ]
  },
  {
   "cell_type": "code",
   "execution_count": 29,
   "metadata": {},
   "outputs": [
    {
     "data": {
      "text/plain": [
       "count    1.704000e+03\n",
       "mean     2.960121e+07\n",
       "std      1.061579e+08\n",
       "min      6.001100e+04\n",
       "25%      2.793664e+06\n",
       "50%      7.023596e+06\n",
       "75%      1.958522e+07\n",
       "max      1.318683e+09\n",
       "Name: população, dtype: float64"
      ]
     },
     "execution_count": 29,
     "metadata": {},
     "output_type": "execute_result"
    }
   ],
   "source": [
    "describe_df(df, 'população')"
   ]
  },
  {
   "cell_type": "markdown",
   "metadata": {},
   "source": [
    "### Na variavel População, obtemos que:\n",
    "* A média da população no dataset é de**2.960121e+07 habitantes**\n",
    "\n",
    "* Com desvio-padrão de **1.061579e+08 Habitantes**\n",
    "\n",
    "* Sendo a menor população de: **6.001100e+04 Habitantes**\n",
    "\n",
    "* E a maior **1.318683e+09 Habitantes**"
   ]
  },
  {
   "cell_type": "code",
   "execution_count": 30,
   "metadata": {},
   "outputs": [
    {
     "data": {
      "text/plain": [
       "count      1704.000000\n",
       "mean       7215.327081\n",
       "std        9857.454543\n",
       "min         241.165876\n",
       "25%        1202.060309\n",
       "50%        3531.846988\n",
       "75%        9325.462346\n",
       "max      113523.132900\n",
       "Name: pib_per_cápita, dtype: float64"
      ]
     },
     "execution_count": 30,
     "metadata": {},
     "output_type": "execute_result"
    }
   ],
   "source": [
    "describe_df(df, 'pib_per_cápita')"
   ]
  },
  {
   "cell_type": "markdown",
   "metadata": {},
   "source": [
    "### Na variavel Pib per cápita, obtemos que:\n",
    "* A média do pib per cápita no dataset é de**7215.327081**\n",
    "\n",
    "* Com desvio-padrão de **9857.454543**\n",
    "\n",
    "* Sendo o menor pib per cápita de: **241.165876**\n",
    "\n",
    "* E a maior **113523.132900**"
   ]
  },
  {
   "cell_type": "markdown",
   "metadata": {},
   "source": [
    "## Vamos observar como foi a evolução na expectativa de vida media dos paises nesse periodo de 1952 a 2007"
   ]
  },
  {
   "cell_type": "code",
   "execution_count": 66,
   "metadata": {},
   "outputs": [
    {
     "data": {
      "text/html": [
       "<div>\n",
       "<style scoped>\n",
       "    .dataframe tbody tr th:only-of-type {\n",
       "        vertical-align: middle;\n",
       "    }\n",
       "\n",
       "    .dataframe tbody tr th {\n",
       "        vertical-align: top;\n",
       "    }\n",
       "\n",
       "    .dataframe thead th {\n",
       "        text-align: right;\n",
       "    }\n",
       "</style>\n",
       "<table border=\"1\" class=\"dataframe\">\n",
       "  <thead>\n",
       "    <tr style=\"text-align: right;\">\n",
       "      <th></th>\n",
       "      <th>país</th>\n",
       "      <th>continente</th>\n",
       "      <th>ano</th>\n",
       "      <th>expectativa_de_vida</th>\n",
       "      <th>população</th>\n",
       "      <th>pib_per_cápita</th>\n",
       "    </tr>\n",
       "  </thead>\n",
       "  <tbody>\n",
       "    <tr>\n",
       "      <th>0</th>\n",
       "      <td>Afghanistan</td>\n",
       "      <td>Asia</td>\n",
       "      <td>1952</td>\n",
       "      <td>28.801</td>\n",
       "      <td>8425333</td>\n",
       "      <td>779.445314</td>\n",
       "    </tr>\n",
       "    <tr>\n",
       "      <th>1</th>\n",
       "      <td>Afghanistan</td>\n",
       "      <td>Asia</td>\n",
       "      <td>1957</td>\n",
       "      <td>30.332</td>\n",
       "      <td>9240934</td>\n",
       "      <td>820.853030</td>\n",
       "    </tr>\n",
       "    <tr>\n",
       "      <th>2</th>\n",
       "      <td>Afghanistan</td>\n",
       "      <td>Asia</td>\n",
       "      <td>1962</td>\n",
       "      <td>31.997</td>\n",
       "      <td>10267083</td>\n",
       "      <td>853.100710</td>\n",
       "    </tr>\n",
       "    <tr>\n",
       "      <th>3</th>\n",
       "      <td>Afghanistan</td>\n",
       "      <td>Asia</td>\n",
       "      <td>1967</td>\n",
       "      <td>34.020</td>\n",
       "      <td>11537966</td>\n",
       "      <td>836.197138</td>\n",
       "    </tr>\n",
       "    <tr>\n",
       "      <th>4</th>\n",
       "      <td>Afghanistan</td>\n",
       "      <td>Asia</td>\n",
       "      <td>1972</td>\n",
       "      <td>36.088</td>\n",
       "      <td>13079460</td>\n",
       "      <td>739.981106</td>\n",
       "    </tr>\n",
       "  </tbody>\n",
       "</table>\n",
       "</div>"
      ],
      "text/plain": [
       "          país continente   ano  expectativa_de_vida  população  \\\n",
       "0  Afghanistan       Asia  1952               28.801    8425333   \n",
       "1  Afghanistan       Asia  1957               30.332    9240934   \n",
       "2  Afghanistan       Asia  1962               31.997   10267083   \n",
       "3  Afghanistan       Asia  1967               34.020   11537966   \n",
       "4  Afghanistan       Asia  1972               36.088   13079460   \n",
       "\n",
       "   pib_per_cápita  \n",
       "0      779.445314  \n",
       "1      820.853030  \n",
       "2      853.100710  \n",
       "3      836.197138  \n",
       "4      739.981106  "
      ]
     },
     "execution_count": 66,
     "metadata": {},
     "output_type": "execute_result"
    }
   ],
   "source": [
    "df.head()"
   ]
  },
  {
   "cell_type": "code",
   "execution_count": 67,
   "metadata": {},
   "outputs": [
    {
     "data": {
      "text/html": [
       "<div>\n",
       "<style scoped>\n",
       "    .dataframe tbody tr th:only-of-type {\n",
       "        vertical-align: middle;\n",
       "    }\n",
       "\n",
       "    .dataframe tbody tr th {\n",
       "        vertical-align: top;\n",
       "    }\n",
       "\n",
       "    .dataframe thead th {\n",
       "        text-align: right;\n",
       "    }\n",
       "</style>\n",
       "<table border=\"1\" class=\"dataframe\">\n",
       "  <thead>\n",
       "    <tr style=\"text-align: right;\">\n",
       "      <th></th>\n",
       "      <th>ano</th>\n",
       "      <th>expectativa_de_vida</th>\n",
       "      <th>população</th>\n",
       "      <th>pib_per_cápita</th>\n",
       "    </tr>\n",
       "    <tr>\n",
       "      <th>continente</th>\n",
       "      <th></th>\n",
       "      <th></th>\n",
       "      <th></th>\n",
       "      <th></th>\n",
       "    </tr>\n",
       "  </thead>\n",
       "  <tbody>\n",
       "    <tr>\n",
       "      <th>Africa</th>\n",
       "      <td>1979.5</td>\n",
       "      <td>48.865330</td>\n",
       "      <td>9.916003e+06</td>\n",
       "      <td>2193.754578</td>\n",
       "    </tr>\n",
       "    <tr>\n",
       "      <th>Americas</th>\n",
       "      <td>1979.5</td>\n",
       "      <td>64.658737</td>\n",
       "      <td>2.450479e+07</td>\n",
       "      <td>7136.110356</td>\n",
       "    </tr>\n",
       "    <tr>\n",
       "      <th>Asia</th>\n",
       "      <td>1979.5</td>\n",
       "      <td>60.064903</td>\n",
       "      <td>7.703872e+07</td>\n",
       "      <td>7902.150428</td>\n",
       "    </tr>\n",
       "    <tr>\n",
       "      <th>Europe</th>\n",
       "      <td>1979.5</td>\n",
       "      <td>71.903686</td>\n",
       "      <td>1.716976e+07</td>\n",
       "      <td>14469.475533</td>\n",
       "    </tr>\n",
       "    <tr>\n",
       "      <th>Oceania</th>\n",
       "      <td>1979.5</td>\n",
       "      <td>74.326208</td>\n",
       "      <td>8.874672e+06</td>\n",
       "      <td>18621.609223</td>\n",
       "    </tr>\n",
       "  </tbody>\n",
       "</table>\n",
       "</div>"
      ],
      "text/plain": [
       "               ano  expectativa_de_vida     população  pib_per_cápita\n",
       "continente                                                           \n",
       "Africa      1979.5            48.865330  9.916003e+06     2193.754578\n",
       "Americas    1979.5            64.658737  2.450479e+07     7136.110356\n",
       "Asia        1979.5            60.064903  7.703872e+07     7902.150428\n",
       "Europe      1979.5            71.903686  1.716976e+07    14469.475533\n",
       "Oceania     1979.5            74.326208  8.874672e+06    18621.609223"
      ]
     },
     "execution_count": 67,
     "metadata": {},
     "output_type": "execute_result"
    }
   ],
   "source": [
    "media_continentes = df.groupby('continente').mean()\n",
    "media_continentes"
   ]
  },
  {
   "cell_type": "code",
   "execution_count": 68,
   "metadata": {},
   "outputs": [
    {
     "data": {
      "image/png": "[encoded data removed]",
      "text/plain": [
       "<Figure size 864x504 with 1 Axes>"
      ]
     },
     "metadata": {},
     "output_type": "display_data"
    }
   ],
   "source": [
    "rotulos = media_continentes.index\n",
    "fig = plt.figure(figsize=(12,7))\n",
    "ax = fig.add_axes([0,0,1,1])\n",
    "sns.set_style(\"white\")\n",
    "sns.despine()\n",
    "sns.color_palette(\"hls\", 8)\n",
    "sns.set_context(\"talk\")\n",
    "sns.barplot(ax=ax, x=rotulos, y='expectativa_de_vida', data=media_continentes)\n",
    "ax.set_title('Expectativa de vida media de cada continente', fontsize=25, fontweight='bold',\n",
    "                            pad=15)\n",
    "ax.set_xlabel('Continentes', fontsize=20, fontweight='bold', labelpad=15);\n",
    "ax.set_ylabel('Expectativa de vida', fontsize=20, fontweight='bold', labelpad=15);\n"
   ]
  },
  {
   "cell_type": "markdown",
   "metadata": {},
   "source": [
    "* Com o grafico e a tabela acima, podemos concluir que dentre a evolução de cada continente, a oceania foi a que teve o maior crescimento na expectativa de vida, ja a Africa foi a que teve a menor evolução. Com isso quais serão os motivos que fizeram a africa ser a menor ? Vamos analisar...\n",
    "\n",
    "* Dentre nossas variaveis as que podem ser causadora de algum efeito são população e pib per cápita, podemos então suspeitar que existe alguma relação entre elas e a expectativa de vida"
   ]
  },
  {
   "cell_type": "markdown",
   "metadata": {},
   "source": [
    "## Analise de covariancia e correlação entre as variaveis"
   ]
  },
  {
   "cell_type": "code",
   "execution_count": 71,
   "metadata": {},
   "outputs": [
    {
     "data": {
      "text/plain": [
       "89070241.92997819"
      ]
     },
     "execution_count": 71,
     "metadata": {},
     "output_type": "execute_result"
    }
   ],
   "source": [
    "df['expectativa_de_vida'].cov(df['população'])"
   ]
  },
  {
   "cell_type": "code",
   "execution_count": 73,
   "metadata": {},
   "outputs": [
    {
     "data": {
      "text/plain": [
       "74323.19574798533"
      ]
     },
     "execution_count": 73,
     "metadata": {},
     "output_type": "execute_result"
    }
   ],
   "source": [
    "df['expectativa_de_vida'].cov(df['pib_per_cápita'])"
   ]
  },
  {
   "cell_type": "code",
   "execution_count": 69,
   "metadata": {},
   "outputs": [
    {
     "data": {
      "text/plain": [
       "0.06495536916882556"
      ]
     },
     "execution_count": 69,
     "metadata": {},
     "output_type": "execute_result"
    }
   ],
   "source": [
    "df['expectativa_de_vida'].corr(df['população'])"
   ]
  },
  {
   "cell_type": "code",
   "execution_count": 70,
   "metadata": {},
   "outputs": [
    {
     "data": {
      "text/plain": [
       "0.5837062198659806"
      ]
     },
     "execution_count": 70,
     "metadata": {},
     "output_type": "execute_result"
    }
   ],
   "source": [
    "df['expectativa_de_vida'].corr(df['pib_per_cápita'])"
   ]
  },
  {
   "cell_type": "markdown",
   "metadata": {},
   "source": [
    "* Podemos concluir a partir dos resultados que as variaveis tem associações positivas, porem a relação entre expectativa de vida e população e fraca, logo ela não e um fator a se levar em consideração, ja a relação entre o pib per capita e população segue uma relação positiva moderada, nos levando assim a suspeitar que a expectativa de vida esteja ligada ao aumento ou diminuição do pib per cápita\n",
    "\n",
    "* Com isso vamos visualizar agora a relação dessas duas variaveis"
   ]
  },
  {
   "cell_type": "code",
   "execution_count": 81,
   "metadata": {},
   "outputs": [
    {
     "data": {
      "image/png": "[encoded data removed]",
      "text/plain": [
       "<Figure size 864x504 with 1 Axes>"
      ]
     },
     "metadata": {},
     "output_type": "display_data"
    }
   ],
   "source": [
    "fig = plt.figure(figsize=(12,7))\n",
    "ax = fig.add_axes([0,0,1,1])\n",
    "sns.set_style(\"white\")\n",
    "sns.despine()\n",
    "sns.color_palette(\"hls\", 8)\n",
    "sns.set_context(\"talk\")\n",
    "sns.scatterplot(ax=ax, data=df, x=\"expectativa_de_vida\", y=\"pib_per_cápita\")\n",
    "ax.set_title('Pib Per cápita x Expectativa de vida', fontsize=25, fontweight='bold',\n",
    "                            pad=15)\n",
    "ax.set_xlabel('Expectativa de vida', fontsize=20, fontweight='bold', labelpad=15);\n",
    "ax.set_ylabel('Pib Per cápita', fontsize=20, fontweight='bold', labelpad=15);"
   ]
  },
  {
   "cell_type": "code",
   "execution_count": null,
   "metadata": {},
   "outputs": [],
   "source": []
  }
 ],
 "metadata": {
  "kernelspec": {
   "display_name": "Python 3",
   "language": "python",
   "name": "python3"
  },
  "language_info": {
   "codemirror_mode": {
    "name": "ipython",
    "version": 3
   },
   "file_extension": ".py",
   "mimetype": "text/x-python",
   "name": "python",
   "nbconvert_exporter": "python",
   "pygments_lexer": "ipython3",
   "version": "3.7.6"
  }
 },
 "nbformat": 4,
 "nbformat_minor": 4
}
